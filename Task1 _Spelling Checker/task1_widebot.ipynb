{
  "nbformat": 4,
  "nbformat_minor": 0,
  "metadata": {
    "colab": {
      "provenance": []
    },
    "kernelspec": {
      "name": "python3",
      "display_name": "Python 3"
    },
    "language_info": {
      "name": "python"
    }
  },
  "cells": [
    {
      "cell_type": "code",
      "source": [
        "class TrieNode:\n",
        "    def __init__(self):\n",
        "        self.children = {}\n",
        "        self.is_end_of_word = False\n",
        "\n",
        "class SpellChecker:\n",
        "    def __init__(self):\n",
        "        self.root = TrieNode()\n",
        "\n",
        "    def insert(self, word):\n",
        "        node = self.root\n",
        "        for char in word:\n",
        "            if char not in node.children:\n",
        "                node.children[char] = TrieNode()\n",
        "            node = node.children[char]\n",
        "        node.is_end_of_word = True\n",
        "\n",
        "\n",
        "    def find_nearest_words(self, word):\n",
        "        def dfs(node, prefix, depth):\n",
        "            if len(nearest_words) == 4 or not node:\n",
        "                return\n",
        "            if node.is_end_of_word and prefix != word:\n",
        "                nearest_words.append(prefix)\n",
        "\n",
        "            if depth == len(word):\n",
        "                return\n",
        "\n",
        "            char = word[depth]\n",
        "            if char in node.children:\n",
        "                dfs(node.children[char], prefix + char, depth + 1)\n",
        "\n",
        "            for next_char in sorted(node.children.keys()):\n",
        "                if next_char != char:\n",
        "                    dfs(node.children[next_char], prefix + next_char, depth + 1)\n",
        "\n",
        "        nearest_words = []\n",
        "        node = self.root\n",
        "        dfs(node, \"\", 0)\n",
        "\n",
        "        return nearest_words\n",
        "\n",
        "    def add_word(self, word):\n",
        "        self.insert(word)\n",
        "\n",
        "def load_dictionary(file_path):\n",
        "    encodings = ['utf-8', 'iso-8859-1', 'latin-1', 'cp1252']  # Add more encodings if needed\n",
        "    with open(file_path, 'rb') as file:\n",
        "        for encoding in encodings:\n",
        "            try:\n",
        "                lines = [line.decode(encoding).strip() for line in file]\n",
        "                return lines\n",
        "            except UnicodeDecodeError:\n",
        "                # Go back to the beginning of the file to try the next encoding\n",
        "                file.seek(0)\n",
        "                continue\n",
        "    raise ValueError(\"Could not read the dictionary file using any of the specified encodings.\")\n",
        "\n",
        "\n"
      ],
      "metadata": {
        "id": "0tYL9lLZ7v2z"
      },
      "execution_count": 22,
      "outputs": []
    },
    {
      "cell_type": "code",
      "source": [
        "# Test the SpellChecker class with the given dictionary data\n",
        "if __name__ == \"__main__\":\n",
        "    dictionary_file_path = \"/content/dictionary.txt\"\n",
        "\n",
        "    spell_checker = SpellChecker()\n",
        "\n",
        "    # Load the dictionary data from the file and store it in the Trie data structure\n",
        "    dictionary_list = load_dictionary(dictionary_file_path)\n",
        "    for word in dictionary_list:\n",
        "        spell_checker.insert(word)\n",
        "\n",
        "    # Test the find_nearest_words operation\n",
        "    input_word = \"abacuss\"\n",
        "    nearest_words = spell_checker.find_nearest_words(input_word)\n",
        "    print(f\"The nearest 4 words to '{input_word}' are: {nearest_words}\")\n",
        "\n",
        "    # Test the add_word operation\n",
        "    new_word = \"abacustest\"\n",
        "    spell_checker.add_word(new_word)\n",
        "    print(f\"Added the word '{new_word}' to the dictionary.\")"
      ],
      "metadata": {
        "colab": {
          "base_uri": "https://localhost:8080/"
        },
        "id": "rUd7MYASxgF4",
        "outputId": "0108d10c-3ef6-4f0b-dc28-90a57779f9b7"
      },
      "execution_count": 23,
      "outputs": [
        {
          "output_type": "stream",
          "name": "stdout",
          "text": [
            "The nearest 4 words to 'abacuss' are: ['a', 'ab', 'aba', 'abacus']\n",
            "Added the word 'abacustest' to the dictionary.\n"
          ]
        }
      ]
    }
  ]
}